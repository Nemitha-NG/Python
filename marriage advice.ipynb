{
 "cells": [
  {
   "cell_type": "code",
   "execution_count": 37,
   "id": "2a7405ae-3676-4f8c-8f89-797339de0fae",
   "metadata": {},
   "outputs": [
    {
     "name": "stdin",
     "output_type": "stream",
     "text": [
      "enter your age 26\n",
      "marrage status NO\n"
     ]
    },
    {
     "name": "stdout",
     "output_type": "stream",
     "text": [
      "get married\n"
     ]
    }
   ],
   "source": [
    "age= int(input('enter your age'))\n",
    "married=input('marrage status')\n",
    "if age>25 and married=='NO':\n",
    "    print(\"get married\")\n",
    "elif age>25 and married=='YES':\n",
    "    print('good')\n",
    "else :\n",
    "    print('got time dont worry')\n",
    "    "
   ]
  },
  {
   "cell_type": "markdown",
   "id": "c8ea5163-638d-48b9-a369-0cb84ec324c0",
   "metadata": {},
   "source": [
    "## age= int(input('enter your age'))\n",
    "married=input('marrage status')\n",
    "if age>25 and married=='NO':\n",
    "    print('already get married')\n",
    "elif age>25 and married=='yes':\n",
    "    print('good')\n",
    "else :\n",
    "    print('got time dont worry')\n",
    "    "
   ]
  },
  {
   "cell_type": "code",
   "execution_count": null,
   "id": "00c1aa5e-513b-42ca-bc99-5299577471f8",
   "metadata": {},
   "outputs": [],
   "source": []
  }
 ],
 "metadata": {
  "kernelspec": {
   "display_name": "Python 3 (ipykernel)",
   "language": "python",
   "name": "python3"
  },
  "language_info": {
   "codemirror_mode": {
    "name": "ipython",
    "version": 3
   },
   "file_extension": ".py",
   "mimetype": "text/x-python",
   "name": "python",
   "nbconvert_exporter": "python",
   "pygments_lexer": "ipython3",
   "version": "3.12.4"
  }
 },
 "nbformat": 4,
 "nbformat_minor": 5
}

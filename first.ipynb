{
 "cells": [
  {
   "cell_type": "code",
   "execution_count": 5,
   "id": "02575675-5969-4262-8647-6e064a2053cf",
   "metadata": {},
   "outputs": [
    {
     "name": "stdout",
     "output_type": "stream",
     "text": [
      "23\n"
     ]
    }
   ],
   "source": [
    "x = 23\n",
    "\n",
    "print(x)    "
   ]
  },
  {
   "cell_type": "code",
   "execution_count": 7,
   "id": "58a85a7d-04f8-437a-9cb2-983f29c07b88",
   "metadata": {},
   "outputs": [
    {
     "name": "stdout",
     "output_type": "stream",
     "text": [
      "hello nemi\n"
     ]
    }
   ],
   "source": [
    "print(\"hello nemi\") "
   ]
  },
  {
   "cell_type": "code",
   "execution_count": 3,
   "id": "fce5ea0d-77a7-4ecd-93ce-5a8ae29d0a6a",
   "metadata": {},
   "outputs": [
    {
     "name": "stdout",
     "output_type": "stream",
     "text": [
      "nemi\n"
     ]
    }
   ],
   "source": [
    "print(\"nemi\")    "
   ]
  },
  {
   "cell_type": "code",
   "execution_count": 9,
   "id": "071eab36-4511-49c4-9a60-87ac12c076eb",
   "metadata": {},
   "outputs": [
    {
     "data": {
      "text/plain": [
       "int"
      ]
     },
     "execution_count": 9,
     "metadata": {},
     "output_type": "execute_result"
    }
   ],
   "source": [
    "type(x) "
   ]
  },
  {
   "cell_type": "code",
   "execution_count": 15,
   "id": "50c71909-9a6c-4543-9ca9-5f8a38632698",
   "metadata": {},
   "outputs": [
    {
     "name": "stdout",
     "output_type": "stream",
     "text": [
      "nemi\n"
     ]
    }
   ],
   "source": [
    "a= 'nemi'\n",
    "\n",
    "print(a)"
   ]
  },
  {
   "cell_type": "code",
   "execution_count": 13,
   "id": "37d90780-fc1b-401f-8d9f-0b60624b73a6",
   "metadata": {},
   "outputs": [
    {
     "data": {
      "text/plain": [
       "str"
      ]
     },
     "execution_count": 13,
     "metadata": {},
     "output_type": "execute_result"
    }
   ],
   "source": [
    "type(a)"
   ]
  },
  {
   "cell_type": "code",
   "execution_count": 17,
   "id": "02825413-b61d-4875-93d4-445233a7074e",
   "metadata": {},
   "outputs": [
    {
     "name": "stdout",
     "output_type": "stream",
     "text": [
      "cheeku\n"
     ]
    }
   ],
   "source": [
    "a='cheeku'\n",
    "\n",
    "print(a)"
   ]
  },
  {
   "cell_type": "code",
   "execution_count": null,
   "id": "130e98ae-f713-4ac7-9065-dce2cfc3ba42",
   "metadata": {},
   "outputs": [],
   "source": []
  },
  {
   "cell_type": "code",
   "execution_count": 19,
   "id": "a4ed451a-abdd-46a3-b56b-ae113dbb6672",
   "metadata": {},
   "outputs": [
    {
     "name": "stdout",
     "output_type": "stream",
     "text": [
      "nemi\n"
     ]
    }
   ],
   "source": [
    "a='cheeku'\n",
    "a='nemi'\n",
    "\n",
    "print(a)"
   ]
  },
  {
   "cell_type": "code",
   "execution_count": 21,
   "id": "6b963114-2ff9-4e88-90c6-57f82b6e4d9d",
   "metadata": {},
   "outputs": [
    {
     "name": "stdout",
     "output_type": "stream",
     "text": [
      "1\n",
      "2\n",
      "3\n"
     ]
    }
   ],
   "source": [
    "x,y,z=1,2,3\n",
    "\n",
    "print(x)\n",
    "print(y)\n",
    "print(z)"
   ]
  },
  {
   "cell_type": "code",
   "execution_count": null,
   "id": "b6ed94e8-ec8f-40ed-8eba-7c6e0c0685e6",
   "metadata": {},
   "outputs": [],
   "source": []
  },
  {
   "cell_type": "code",
   "execution_count": 23,
   "id": "fbe56e56-93e8-40cc-85f0-664f594b52bd",
   "metadata": {},
   "outputs": [
    {
     "name": "stdout",
     "output_type": "stream",
     "text": [
      "nemi\n",
      "cheeku\n",
      "lilith\n"
     ]
    }
   ],
   "source": [
    "x,y,z='nemi','cheeku','lilith'\n",
    "\n",
    "print(x)\n",
    "print(y)\n",
    "print(z)"
   ]
  },
  {
   "cell_type": "code",
   "execution_count": 27,
   "id": "cc641a5a-aa4b-4da5-8d9c-02b01174699e",
   "metadata": {},
   "outputs": [
    {
     "name": "stdout",
     "output_type": "stream",
     "text": [
      "coco\n",
      "venila\n",
      "pista\n"
     ]
    }
   ],
   "source": [
    "ice_cream=['coco','venila','pista']\n",
    "\n",
    "x,y,z=ice_cream\n",
    "\n",
    "print(x)\n",
    "print(y)\n",
    "print(z)"
   ]
  },
  {
   "cell_type": "code",
   "execution_count": 240,
   "id": "2a8af58d-72dd-46bc-907d-0470830ed439",
   "metadata": {},
   "outputs": [
    {
     "name": "stdout",
     "output_type": "stream",
     "text": [
      "nemi is strong.\n"
     ]
    }
   ],
   "source": [
    "b='nemi is strong'+'.'\n",
    "print(b)"
   ]
  },
  {
   "cell_type": "code",
   "execution_count": 43,
   "id": "c462e8f7-b0cf-41e0-9a70-1f1128ef06f2",
   "metadata": {},
   "outputs": [
    {
     "name": "stdout",
     "output_type": "stream",
     "text": [
      "nemi is strong\n"
     ]
    }
   ],
   "source": [
    "a='nemi'\n",
    "b='is'\n",
    "c='strong'\n",
    "\n",
    "print(a+' '+b+' '+c)"
   ]
  },
  {
   "cell_type": "code",
   "execution_count": 45,
   "id": "5420a78c-0fb8-4f17-8ec9-bf97ca286a44",
   "metadata": {},
   "outputs": [
    {
     "name": "stdout",
     "output_type": "stream",
     "text": [
      "nemi is strong\n"
     ]
    }
   ],
   "source": [
    "a='nemi'\n",
    "b='is'\n",
    "c='strong'\n",
    "\n",
    "print(a+\" \"+b+' '+c)"
   ]
  },
  {
   "cell_type": "code",
   "execution_count": 78,
   "id": "b469a92b-b8ec-493c-bc2a-c807dc55ed32",
   "metadata": {},
   "outputs": [
    {
     "name": "stdout",
     "output_type": "stream",
     "text": [
      "nemi is strong!\n"
     ]
    }
   ],
   "source": [
    "a='nemi'\n",
    "b='is'\n",
    "c='strong'\n",
    "\n",
    "print(a+\" \"+b+\" \"+c+\"!\")"
   ]
  },
  {
   "cell_type": "code",
   "execution_count": 53,
   "id": "82300c34-9a3a-4d7d-ba55-c41319f6b382",
   "metadata": {},
   "outputs": [
    {
     "data": {
      "text/plain": [
       "str"
      ]
     },
     "execution_count": 53,
     "metadata": {},
     "output_type": "execute_result"
    }
   ],
   "source": [
    "type(a)"
   ]
  },
  {
   "cell_type": "code",
   "execution_count": 55,
   "id": "f7141a81-38ac-4152-91a8-9b9464b561f3",
   "metadata": {},
   "outputs": [
    {
     "data": {
      "text/plain": [
       "int"
      ]
     },
     "execution_count": 55,
     "metadata": {},
     "output_type": "execute_result"
    }
   ],
   "source": [
    "type(10+10)"
   ]
  },
  {
   "cell_type": "code",
   "execution_count": 59,
   "id": "1062faf7-6f6c-42c5-ac07-a425bcee9f58",
   "metadata": {},
   "outputs": [
    {
     "data": {
      "text/plain": [
       "str"
      ]
     },
     "execution_count": 59,
     "metadata": {},
     "output_type": "execute_result"
    }
   ],
   "source": [
    "type('abc')"
   ]
  },
  {
   "cell_type": "code",
   "execution_count": 61,
   "id": "3bfece41-ff0e-4c52-bba6-8dcb6346735a",
   "metadata": {},
   "outputs": [
    {
     "data": {
      "text/plain": [
       "float"
      ]
     },
     "execution_count": 61,
     "metadata": {},
     "output_type": "execute_result"
    }
   ],
   "source": [
    "type(10+11.34)"
   ]
  },
  {
   "cell_type": "code",
   "execution_count": 63,
   "id": "89a9dceb-3951-47e9-a591-c249c1c5cf8b",
   "metadata": {},
   "outputs": [
    {
     "data": {
      "text/plain": [
       "bool"
      ]
     },
     "execution_count": 63,
     "metadata": {},
     "output_type": "execute_result"
    }
   ],
   "source": [
    "type(1==1)"
   ]
  },
  {
   "cell_type": "markdown",
   "id": "b5746bbc-86d5-4060-8139-553bf4748ca0",
   "metadata": {},
   "source": [
    "STRINGS\n"
   ]
  },
  {
   "cell_type": "code",
   "execution_count": 66,
   "id": "5cb318fb-acab-4a2f-9892-a65fcbc8472b",
   "metadata": {},
   "outputs": [
    {
     "data": {
      "text/plain": [
       "'SINGLE QUOATE'"
      ]
     },
     "execution_count": 66,
     "metadata": {},
     "output_type": "execute_result"
    }
   ],
   "source": [
    "'SINGLE QUOATE'"
   ]
  },
  {
   "cell_type": "code",
   "execution_count": 68,
   "id": "34774c02-0792-4343-8b8a-b3397c64b9b2",
   "metadata": {},
   "outputs": [
    {
     "data": {
      "text/plain": [
       "'DOUBLE QUOTE'"
      ]
     },
     "execution_count": 68,
     "metadata": {},
     "output_type": "execute_result"
    }
   ],
   "source": [
    "\"DOUBLE QUOTE\""
   ]
  },
  {
   "cell_type": "code",
   "execution_count": 82,
   "id": "e8071f43-0b5f-4830-b69e-e7984835cdd8",
   "metadata": {},
   "outputs": [],
   "source": [
    "MULTI_LINE=\"\"\"\n",
    "MULTI LINE,\n",
    "STRING ,\n",
    "shh\n",
    "\"\"\"\n"
   ]
  },
  {
   "cell_type": "code",
   "execution_count": 84,
   "id": "f4b5fbde-051d-4e50-bf8d-5ee5c139ee4e",
   "metadata": {},
   "outputs": [
    {
     "name": "stdout",
     "output_type": "stream",
     "text": [
      "\n",
      "MULTI LINE,\n",
      "STRING ,\n",
      "shh\n",
      "\n"
     ]
    }
   ],
   "source": [
    "\n",
    "print(MULTI_LINE)"
   ]
  },
  {
   "cell_type": "code",
   "execution_count": 86,
   "id": "edafdf6f-9609-47b4-8f9c-a1e52b2ca944",
   "metadata": {},
   "outputs": [],
   "source": [
    "a='nemitha NG'"
   ]
  },
  {
   "cell_type": "code",
   "execution_count": 88,
   "id": "2ed56e35-1c6b-4c75-80c9-2f5e120951ea",
   "metadata": {},
   "outputs": [
    {
     "name": "stdout",
     "output_type": "stream",
     "text": [
      "nemitha NG\n"
     ]
    }
   ],
   "source": [
    "print(a)"
   ]
  },
  {
   "cell_type": "code",
   "execution_count": 90,
   "id": "8a20563f-aa3a-4e07-9173-6f6c6489bc09",
   "metadata": {},
   "outputs": [
    {
     "name": "stdout",
     "output_type": "stream",
     "text": [
      "nem\n"
     ]
    }
   ],
   "source": [
    "print(a[:3])"
   ]
  },
  {
   "cell_type": "code",
   "execution_count": 92,
   "id": "698dd10b-4b68-430c-b169-bc7fc393d67b",
   "metadata": {},
   "outputs": [
    {
     "name": "stdout",
     "output_type": "stream",
     "text": [
      "mit\n"
     ]
    }
   ],
   "source": [
    "print(a[2:5])"
   ]
  },
  {
   "cell_type": "code",
   "execution_count": 94,
   "id": "afe90e88-d3dd-4235-a1d3-c7b29fde0e3e",
   "metadata": {},
   "outputs": [
    {
     "data": {
      "text/plain": [
       "'nemitha NGnemitha NGnemitha NGnemitha NG'"
      ]
     },
     "execution_count": 94,
     "metadata": {},
     "output_type": "execute_result"
    }
   ],
   "source": [
    "a*4"
   ]
  },
  {
   "cell_type": "code",
   "execution_count": 96,
   "id": "506d680a-b094-44d5-86c2-fbb4222d9db0",
   "metadata": {},
   "outputs": [
    {
     "data": {
      "text/plain": [
       "'nemitha NGnemitha NG'"
      ]
     },
     "execution_count": 96,
     "metadata": {},
     "output_type": "execute_result"
    }
   ],
   "source": [
    "a+a"
   ]
  },
  {
   "cell_type": "code",
   "execution_count": 108,
   "id": "311b7562-e680-4fe1-9490-bc2f86f51a48",
   "metadata": {},
   "outputs": [],
   "source": [
    "m=[1,2,3]"
   ]
  },
  {
   "cell_type": "code",
   "execution_count": 112,
   "id": "38ac6ba0-7295-4417-b325-4464a6b119f7",
   "metadata": {},
   "outputs": [
    {
     "data": {
      "text/plain": [
       "3"
      ]
     },
     "execution_count": 112,
     "metadata": {},
     "output_type": "execute_result"
    }
   ],
   "source": [
    "m[2]"
   ]
  },
  {
   "cell_type": "code",
   "execution_count": 116,
   "id": "7dd83eb5-4397-4622-b8ef-691e2273341f",
   "metadata": {},
   "outputs": [
    {
     "data": {
      "text/plain": [
       "['nemi', 3, ['n', 'e', 'm'], True]"
      ]
     },
     "execution_count": 116,
     "metadata": {},
     "output_type": "execute_result"
    }
   ],
   "source": [
    "['nemi',3,['n','e','m'],True]"
   ]
  },
  {
   "cell_type": "code",
   "execution_count": 138,
   "id": "45ea6289-9316-4058-9b86-d94666ce49ea",
   "metadata": {},
   "outputs": [
    {
     "name": "stdout",
     "output_type": "stream",
     "text": [
      "['nemi', 'cheeku', 'lilith']\n"
     ]
    },
    {
     "data": {
      "text/plain": [
       "['nemi', 'cheeku', 'lilith']"
      ]
     },
     "execution_count": 138,
     "metadata": {},
     "output_type": "execute_result"
    }
   ],
   "source": [
    "a=['nemi','cheeku']\n",
    "a.append('lilith')\n",
    "print(a)\n",
    "a"
   ]
  },
  {
   "cell_type": "code",
   "execution_count": 140,
   "id": "3557ab2b-c0c4-439e-a610-49f786d8d236",
   "metadata": {},
   "outputs": [
    {
     "data": {
      "text/plain": [
       "['nemitha', 'cheeku', 'lilith']"
      ]
     },
     "execution_count": 140,
     "metadata": {},
     "output_type": "execute_result"
    }
   ],
   "source": [
    "a[0]='nemitha'\n",
    "a"
   ]
  },
  {
   "cell_type": "code",
   "execution_count": null,
   "id": "2cbe4038-9adf-4334-9b1c-b4c08956dfbd",
   "metadata": {},
   "outputs": [],
   "source": [
    "#nested list"
   ]
  },
  {
   "cell_type": "code",
   "execution_count": 142,
   "id": "b5ae7235-b6a3-43ec-b18a-efa99e4f1589",
   "metadata": {},
   "outputs": [],
   "source": [
    "l=['nemi',3,['n','e','m'],True]"
   ]
  },
  {
   "cell_type": "code",
   "execution_count": 144,
   "id": "b4a884c2-2b95-4a89-ad19-3d0d4b6d040f",
   "metadata": {},
   "outputs": [
    {
     "data": {
      "text/plain": [
       "'e'"
      ]
     },
     "execution_count": 144,
     "metadata": {},
     "output_type": "execute_result"
    }
   ],
   "source": [
    "l[2][1]"
   ]
  },
  {
   "cell_type": "code",
   "execution_count": 146,
   "id": "414a945a-cffd-4ad2-bf81-8efacfef5bf1",
   "metadata": {},
   "outputs": [],
   "source": [
    "#tuple\n",
    "\n",
    "tuple=(1,2,3,3,1)"
   ]
  },
  {
   "cell_type": "code",
   "execution_count": 148,
   "id": "60e0a239-0aeb-4c1f-aedc-faedd206c555",
   "metadata": {},
   "outputs": [
    {
     "data": {
      "text/plain": [
       "tuple"
      ]
     },
     "execution_count": 148,
     "metadata": {},
     "output_type": "execute_result"
    }
   ],
   "source": [
    "type(tuple)"
   ]
  },
  {
   "cell_type": "code",
   "execution_count": 152,
   "id": "5a1ee18e-b08d-4566-b532-4eaa8b7aa173",
   "metadata": {},
   "outputs": [
    {
     "data": {
      "text/plain": [
       "1"
      ]
     },
     "execution_count": 152,
     "metadata": {},
     "output_type": "execute_result"
    }
   ],
   "source": [
    "tuple[4]"
   ]
  },
  {
   "cell_type": "code",
   "execution_count": 154,
   "id": "a5808475-d5af-4b71-886f-0b634ebba81d",
   "metadata": {},
   "outputs": [],
   "source": [
    "#sets\n",
    "\n",
    "logs={2,3,4,6,3,4,7}"
   ]
  },
  {
   "cell_type": "code",
   "execution_count": 156,
   "id": "e1669318-f80e-429c-9bb4-53709adaa74c",
   "metadata": {},
   "outputs": [
    {
     "data": {
      "text/plain": [
       "{2, 3, 4, 6, 7}"
      ]
     },
     "execution_count": 156,
     "metadata": {},
     "output_type": "execute_result"
    }
   ],
   "source": [
    "logs"
   ]
  },
  {
   "cell_type": "code",
   "execution_count": 158,
   "id": "9a08d2bf-a6e5-4994-bea6-5476581b3669",
   "metadata": {},
   "outputs": [
    {
     "data": {
      "text/plain": [
       "set"
      ]
     },
     "execution_count": 158,
     "metadata": {},
     "output_type": "execute_result"
    }
   ],
   "source": [
    "type(logs)"
   ]
  },
  {
   "cell_type": "code",
   "execution_count": 166,
   "id": "d2819fd6-8e72-4b9f-aab2-d54011e016fc",
   "metadata": {},
   "outputs": [],
   "source": [
    "my_logs={1,7,2,4,45}"
   ]
  },
  {
   "cell_type": "code",
   "execution_count": 162,
   "id": "16ea081e-fb6d-4a4a-b9ff-e908425aec0d",
   "metadata": {},
   "outputs": [
    {
     "data": {
      "text/plain": [
       "set"
      ]
     },
     "execution_count": 162,
     "metadata": {},
     "output_type": "execute_result"
    }
   ],
   "source": [
    "type(my_logs)"
   ]
  },
  {
   "cell_type": "code",
   "execution_count": 168,
   "id": "7a0962fa-a33d-4dbd-a160-4d120d886a77",
   "metadata": {},
   "outputs": [
    {
     "name": "stdout",
     "output_type": "stream",
     "text": [
      "{1, 2, 3, 4, 6, 7, 45}\n"
     ]
    }
   ],
   "source": [
    "print(logs | my_logs)"
   ]
  },
  {
   "cell_type": "code",
   "execution_count": 170,
   "id": "31605ecb-d59b-415f-b32f-4ea432b37193",
   "metadata": {},
   "outputs": [
    {
     "name": "stdout",
     "output_type": "stream",
     "text": [
      "{2, 4, 7}\n"
     ]
    }
   ],
   "source": [
    "print(logs & my_logs)"
   ]
  },
  {
   "cell_type": "code",
   "execution_count": 172,
   "id": "7e80503d-c7a8-42d0-8bb9-972e13ea6623",
   "metadata": {},
   "outputs": [
    {
     "name": "stdout",
     "output_type": "stream",
     "text": [
      "{3, 6}\n"
     ]
    }
   ],
   "source": [
    "print(logs - my_logs)"
   ]
  },
  {
   "cell_type": "code",
   "execution_count": 180,
   "id": "ef32f22c-a34f-4118-9e29-410c16088619",
   "metadata": {},
   "outputs": [
    {
     "name": "stdout",
     "output_type": "stream",
     "text": [
      "{1, 45}\n"
     ]
    }
   ],
   "source": [
    "print(my_logs - logs)#SubatrCTAS VAKUES FROM LOGS AND DOSPLAYES UNIQUES FROM MY_LOGS"
   ]
  },
  {
   "cell_type": "code",
   "execution_count": 178,
   "id": "0900660d-7d84-4b05-a115-732ccf58bfb3",
   "metadata": {},
   "outputs": [
    {
     "name": "stdout",
     "output_type": "stream",
     "text": [
      "{1, 3, 6, 45}\n"
     ]
    }
   ],
   "source": [
    "print(logs ^ my_logs)#unique foe esch set"
   ]
  },
  {
   "cell_type": "code",
   "execution_count": null,
   "id": "a5469d00-e253-452f-b1f5-6b36d14840d4",
   "metadata": {},
   "outputs": [],
   "source": [
    "#DICTIONARIES\n",
    "#KEY VAlUE PAIRS"
   ]
  },
  {
   "cell_type": "code",
   "execution_count": 182,
   "id": "fa646c9e-a79e-47dc-bd0d-b9c045e47338",
   "metadata": {},
   "outputs": [],
   "source": [
    "dict_log={'name':'nemi','age':23,'pet':['cheeku',1]}"
   ]
  },
  {
   "cell_type": "code",
   "execution_count": 184,
   "id": "63b99d74-d30a-4ab5-a2b7-82dedc5f4c22",
   "metadata": {},
   "outputs": [
    {
     "data": {
      "text/plain": [
       "{'name': 'nemi', 'age': 23, 'pet': ['cheeku', 1]}"
      ]
     },
     "execution_count": 184,
     "metadata": {},
     "output_type": "execute_result"
    }
   ],
   "source": [
    "dict_log"
   ]
  },
  {
   "cell_type": "code",
   "execution_count": 186,
   "id": "30bf6c23-8e75-442d-aba4-fcfba05407b7",
   "metadata": {},
   "outputs": [
    {
     "data": {
      "text/plain": [
       "23"
      ]
     },
     "execution_count": 186,
     "metadata": {},
     "output_type": "execute_result"
    }
   ],
   "source": [
    "dict_log['age']"
   ]
  },
  {
   "cell_type": "code",
   "execution_count": 188,
   "id": "29781abc-f12b-43e2-8da2-4306d6339942",
   "metadata": {},
   "outputs": [
    {
     "data": {
      "text/plain": [
       "['cheeku', 1]"
      ]
     },
     "execution_count": 188,
     "metadata": {},
     "output_type": "execute_result"
    }
   ],
   "source": [
    "dict_log['pet']"
   ]
  },
  {
   "cell_type": "code",
   "execution_count": 194,
   "id": "856f701f-380c-468e-aa63-fe8cd684b116",
   "metadata": {},
   "outputs": [],
   "source": [
    "dict_log.update({'name':'nemi','age':23,'pet':['cheeku',1],'blessed':'yes'})"
   ]
  },
  {
   "cell_type": "code",
   "execution_count": 196,
   "id": "20cabde9-2bd6-4782-b2c4-121858df5614",
   "metadata": {},
   "outputs": [
    {
     "data": {
      "text/plain": [
       "{'name': 'nemi', 'age': 23, 'pet': ['cheeku', 1], 'blessed': 'yes'}"
      ]
     },
     "execution_count": 196,
     "metadata": {},
     "output_type": "execute_result"
    }
   ],
   "source": [
    "dict_log"
   ]
  },
  {
   "cell_type": "code",
   "execution_count": 200,
   "id": "346c4cb8-b166-4f5e-a0ca-50955111ce76",
   "metadata": {},
   "outputs": [],
   "source": [
    "del dict_log['age']"
   ]
  },
  {
   "cell_type": "code",
   "execution_count": 202,
   "id": "41e4f5c4-1495-4ae3-bdd5-82ad5a913e52",
   "metadata": {},
   "outputs": [
    {
     "data": {
      "text/plain": [
       "{'name': 'nemi', 'pet': ['cheeku', 1], 'blessed': 'yes'}"
      ]
     },
     "execution_count": 202,
     "metadata": {},
     "output_type": "execute_result"
    }
   ],
   "source": [
    "dict_log"
   ]
  },
  {
   "cell_type": "code",
   "execution_count": null,
   "id": "d58a2c97-bdc4-4dae-a0f6-627ea3baaf95",
   "metadata": {},
   "outputs": [],
   "source": [
    "#comparison operator"
   ]
  },
  {
   "cell_type": "code",
   "execution_count": 204,
   "id": "3fc9b589-c8db-4a5f-b1b7-2abe09ac3dfd",
   "metadata": {},
   "outputs": [
    {
     "data": {
      "text/plain": [
       "True"
      ]
     },
     "execution_count": 204,
     "metadata": {},
     "output_type": "execute_result"
    }
   ],
   "source": [
    "10==10"
   ]
  },
  {
   "cell_type": "code",
   "execution_count": 206,
   "id": "f13e2617-e1e4-4e00-9163-1a8114097900",
   "metadata": {},
   "outputs": [
    {
     "data": {
      "text/plain": [
       "True"
      ]
     },
     "execution_count": 206,
     "metadata": {},
     "output_type": "execute_result"
    }
   ],
   "source": [
    "10!=15"
   ]
  },
  {
   "cell_type": "code",
   "execution_count": 208,
   "id": "b212d85a-f76f-4136-a485-3e784b9836cd",
   "metadata": {},
   "outputs": [
    {
     "data": {
      "text/plain": [
       "False"
      ]
     },
     "execution_count": 208,
     "metadata": {},
     "output_type": "execute_result"
    }
   ],
   "source": [
    "'nemi'=='cheeku'"
   ]
  },
  {
   "cell_type": "code",
   "execution_count": 210,
   "id": "2c4b3b56-8408-4d12-addd-30299fd5f983",
   "metadata": {},
   "outputs": [
    {
     "data": {
      "text/plain": [
       "False"
      ]
     },
     "execution_count": 210,
     "metadata": {},
     "output_type": "execute_result"
    }
   ],
   "source": [
    "10<5"
   ]
  },
  {
   "cell_type": "code",
   "execution_count": 212,
   "id": "f263eca2-3c62-4edb-b772-7f98a388d7ca",
   "metadata": {},
   "outputs": [
    {
     "data": {
      "text/plain": [
       "True"
      ]
     },
     "execution_count": 212,
     "metadata": {},
     "output_type": "execute_result"
    }
   ],
   "source": [
    "10>5"
   ]
  },
  {
   "cell_type": "code",
   "execution_count": 214,
   "id": "277eec3e-9453-41ea-bdd4-5db7c4d61a9a",
   "metadata": {},
   "outputs": [
    {
     "data": {
      "text/plain": [
       "True"
      ]
     },
     "execution_count": 214,
     "metadata": {},
     "output_type": "execute_result"
    }
   ],
   "source": [
    "10>=10"
   ]
  },
  {
   "cell_type": "code",
   "execution_count": 218,
   "id": "e44006a7-9821-4864-b271-eb10f23c1577",
   "metadata": {},
   "outputs": [
    {
     "data": {
      "text/plain": [
       "False"
      ]
     },
     "execution_count": 218,
     "metadata": {},
     "output_type": "execute_result"
    }
   ],
   "source": [
    "(10<5) and (50>10)#both should be correct"
   ]
  },
  {
   "cell_type": "code",
   "execution_count": 220,
   "id": "27534125-4b47-497f-b9fc-381eabb73f82",
   "metadata": {},
   "outputs": [
    {
     "data": {
      "text/plain": [
       "True"
      ]
     },
     "execution_count": 220,
     "metadata": {},
     "output_type": "execute_result"
    }
   ],
   "source": [
    "(10>15) or (50>10)#one of them should be correct"
   ]
  },
  {
   "cell_type": "code",
   "execution_count": 222,
   "id": "6dd74ce9-3512-4fbd-8f6d-7a2c764a8647",
   "metadata": {},
   "outputs": [
    {
     "data": {
      "text/plain": [
       "False"
      ]
     },
     "execution_count": 222,
     "metadata": {},
     "output_type": "execute_result"
    }
   ],
   "source": [
    "not(50>10)"
   ]
  },
  {
   "cell_type": "code",
   "execution_count": 224,
   "id": "ec093b01-d0f2-4400-b571-c16eefddbf9d",
   "metadata": {},
   "outputs": [],
   "source": [
    "life='nemi loves cheeku and lilith'"
   ]
  },
  {
   "cell_type": "code",
   "execution_count": 226,
   "id": "8a84881c-4653-4094-8a66-c8859ce90db2",
   "metadata": {},
   "outputs": [
    {
     "data": {
      "text/plain": [
       "True"
      ]
     },
     "execution_count": 226,
     "metadata": {},
     "output_type": "execute_result"
    }
   ],
   "source": [
    "'love' in life"
   ]
  },
  {
   "cell_type": "code",
   "execution_count": 228,
   "id": "ee22e3e2-e394-4c51-afef-f27343cb8923",
   "metadata": {},
   "outputs": [
    {
     "data": {
      "text/plain": [
       "False"
      ]
     },
     "execution_count": 228,
     "metadata": {},
     "output_type": "execute_result"
    }
   ],
   "source": [
    "'is' in life"
   ]
  },
  {
   "cell_type": "code",
   "execution_count": 232,
   "id": "537d7441-b514-4ad9-8fda-adad8c625d02",
   "metadata": {},
   "outputs": [
    {
     "data": {
      "text/plain": [
       "True"
      ]
     },
     "execution_count": 232,
     "metadata": {},
     "output_type": "execute_result"
    }
   ],
   "source": [
    "'is' not in life"
   ]
  },
  {
   "cell_type": "code",
   "execution_count": 234,
   "id": "2e373cab-269b-4010-becb-314304a68774",
   "metadata": {},
   "outputs": [],
   "source": [
    "wanted='is'"
   ]
  },
  {
   "cell_type": "code",
   "execution_count": 236,
   "id": "2dccb929-9261-4543-8847-2e0888fc05e6",
   "metadata": {},
   "outputs": [
    {
     "data": {
      "text/plain": [
       "False"
      ]
     },
     "execution_count": 236,
     "metadata": {},
     "output_type": "execute_result"
    }
   ],
   "source": [
    "wanted in life"
   ]
  },
  {
   "cell_type": "code",
   "execution_count": 238,
   "id": "97db340d-f858-40fc-8f37-4dd8fb76142d",
   "metadata": {},
   "outputs": [
    {
     "data": {
      "text/plain": [
       "True"
      ]
     },
     "execution_count": 238,
     "metadata": {},
     "output_type": "execute_result"
    }
   ],
   "source": [
    "wanted not in life"
   ]
  },
  {
   "cell_type": "code",
   "execution_count": 250,
   "id": "5adaf6fb-965b-4907-a623-c7fe9dc949b3",
   "metadata": {},
   "outputs": [],
   "source": [
    "a=10\n",
    "b=15"
   ]
  },
  {
   "cell_type": "code",
   "execution_count": 258,
   "id": "5adbd9df-9af5-42f2-a44c-d8c03d3950a8",
   "metadata": {},
   "outputs": [
    {
     "name": "stdout",
     "output_type": "stream",
     "text": [
      "true\n"
     ]
    }
   ],
   "source": [
    "\n",
    "if a>5 :\n",
    "   print('true')\n",
    "else :\n",
    "    print('false')"
   ]
  },
  {
   "cell_type": "code",
   "execution_count": 268,
   "id": "1b0d88de-8190-46ee-a9fc-923b1452dd7a",
   "metadata": {},
   "outputs": [
    {
     "name": "stdout",
     "output_type": "stream",
     "text": [
      "naice\n"
     ]
    }
   ],
   "source": [
    "\n",
    "if a<5 :\n",
    "   print('true')\n",
    "elif b>16 :\n",
    "    print('false')\n",
    "else :\n",
    "    print('naice')"
   ]
  },
  {
   "cell_type": "code",
   "execution_count": 274,
   "id": "d0596310-e069-453f-9c22-84c64b320559",
   "metadata": {},
   "outputs": [
    {
     "name": "stdout",
     "output_type": "stream",
     "text": [
      "n\n"
     ]
    }
   ],
   "source": [
    "print('n')if a<11 else print('a')"
   ]
  },
  {
   "cell_type": "code",
   "execution_count": 371,
   "id": "7d2b6652-4dc1-45d3-b727-b9d0339a9398",
   "metadata": {},
   "outputs": [],
   "source": [
    "i=[1,2,3,4,5]"
   ]
  },
  {
   "cell_type": "code",
   "execution_count": 290,
   "id": "a9dbfb29-3ef7-467c-b313-d5d1274029e4",
   "metadata": {},
   "outputs": [
    {
     "name": "stdout",
     "output_type": "stream",
     "text": [
      "1\n",
      "2\n",
      "3\n",
      "4\n",
      "5\n"
     ]
    }
   ],
   "source": [
    "for num in int:\n",
    "    print(num)"
   ]
  },
  {
   "cell_type": "code",
   "execution_count": 292,
   "id": "22637978-2e38-4866-82df-423a8423dfa8",
   "metadata": {},
   "outputs": [],
   "source": [
    "log={1,2,3,4,5}"
   ]
  },
  {
   "cell_type": "code",
   "execution_count": 294,
   "id": "c9a25a14-2a33-4038-a40d-01575bd7ad6c",
   "metadata": {},
   "outputs": [
    {
     "name": "stdout",
     "output_type": "stream",
     "text": [
      "1\n",
      "2\n",
      "3\n",
      "4\n",
      "5\n"
     ]
    }
   ],
   "source": [
    "for num in log:\n",
    "    print(num)"
   ]
  },
  {
   "cell_type": "code",
   "execution_count": 296,
   "id": "cb0a219a-2a22-41bc-8f93-42249256073c",
   "metadata": {},
   "outputs": [],
   "source": [
    "logs_nem={'name':'nemi','age':23,'pet':['cheeku',1],'blessed':'yes'}"
   ]
  },
  {
   "cell_type": "code",
   "execution_count": 298,
   "id": "2bd418dd-682b-472d-a706-cf91ec87975e",
   "metadata": {},
   "outputs": [
    {
     "name": "stdout",
     "output_type": "stream",
     "text": [
      "nemi\n",
      "23\n",
      "['cheeku', 1]\n",
      "yes\n"
     ]
    }
   ],
   "source": [
    "for num in logs_nem.values():\n",
    "    print(num)"
   ]
  },
  {
   "cell_type": "code",
   "execution_count": 310,
   "id": "fb13106b-00fc-4820-ad33-b340afeb6d68",
   "metadata": {},
   "outputs": [
    {
     "name": "stdout",
     "output_type": "stream",
     "text": [
      "name -> nemi\n",
      "age -> 23\n",
      "pet -> ['cheeku', 1]\n",
      "blessed -> yes\n"
     ]
    }
   ],
   "source": [
    "for key,value in logs_nem.items():\n",
    "    print(key,'->',value)"
   ]
  },
  {
   "cell_type": "code",
   "execution_count": 312,
   "id": "be104287-ba60-465a-bb8d-94916e86e80c",
   "metadata": {},
   "outputs": [],
   "source": [
    "logs_nem1={'name':'nemitha','age':25,'pet':['cheekya',2],'blessed':'always'}\n",
    "logs_nem2={'name':'nemi','age':23,'pet':['cheeku',1],'blessed':'yes'}"
   ]
  },
  {
   "cell_type": "code",
   "execution_count": 314,
   "id": "a7338522-0d1c-4042-8f3a-66b2df07d450",
   "metadata": {},
   "outputs": [],
   "source": [
    "flavours=['venila','coco','pie']\n",
    "toppings=['chips','fudge','cake']"
   ]
  },
  {
   "cell_type": "code",
   "execution_count": 316,
   "id": "b2579bd9-033c-443d-8011-5a49b91d996c",
   "metadata": {},
   "outputs": [
    {
     "name": "stdout",
     "output_type": "stream",
     "text": [
      "venila topped with chips\n",
      "venila topped with fudge\n",
      "venila topped with cake\n",
      "coco topped with chips\n",
      "coco topped with fudge\n",
      "coco topped with cake\n",
      "pie topped with chips\n",
      "pie topped with fudge\n",
      "pie topped with cake\n"
     ]
    }
   ],
   "source": [
    "for one in flavours:\n",
    "    for two in toppings:\n",
    "        print(one ,'topped with',two)"
   ]
  },
  {
   "cell_type": "code",
   "execution_count": 320,
   "id": "94c27cf5-c36e-4e3a-8bbd-2c48bf9bf9d0",
   "metadata": {},
   "outputs": [
    {
     "name": "stdout",
     "output_type": "stream",
     "text": [
      "name nemitha together name nemi\n",
      "name nemitha together age 23\n",
      "name nemitha together pet ['cheeku', 1]\n",
      "name nemitha together blessed yes\n",
      "age 25 together name nemi\n",
      "age 25 together age 23\n",
      "age 25 together pet ['cheeku', 1]\n",
      "age 25 together blessed yes\n",
      "pet ['cheekya', 2] together name nemi\n",
      "pet ['cheekya', 2] together age 23\n",
      "pet ['cheekya', 2] together pet ['cheeku', 1]\n",
      "pet ['cheekya', 2] together blessed yes\n",
      "blessed always together name nemi\n",
      "blessed always together age 23\n",
      "blessed always together pet ['cheeku', 1]\n",
      "blessed always together blessed yes\n"
     ]
    }
   ],
   "source": [
    "for one,two in logs_nem1.items():\n",
    "    for three,four in logs_nem2.items():\n",
    "        print(one,two ,'together',three,four)"
   ]
  },
  {
   "cell_type": "code",
   "execution_count": 341,
   "id": "ac9509c7-4887-4e85-91d3-fcfb87597d1b",
   "metadata": {},
   "outputs": [],
   "source": [
    "num=1"
   ]
  },
  {
   "cell_type": "code",
   "execution_count": 355,
   "id": "64542b87-8f3d-46ac-bc6b-095812731040",
   "metadata": {},
   "outputs": [
    {
     "name": "stdout",
     "output_type": "stream",
     "text": [
      "1\n",
      "2\n",
      "3\n",
      "stop\n",
      "4\n"
     ]
    }
   ],
   "source": [
    "while num<5:\n",
    "    print(num)\n",
    "    if num == 3:\n",
    "        print('stop')\n",
    "    num=num+1\n",
    "    "
   ]
  },
  {
   "cell_type": "code",
   "execution_count": null,
   "id": "3b24bcba-8e80-44f5-b90f-1439b28ea784",
   "metadata": {},
   "outputs": [],
   "source": [
    "#functions\n"
   ]
  },
  {
   "cell_type": "code",
   "execution_count": 357,
   "id": "b8c4c99d-202e-4dda-aeed-18cd8d12ac05",
   "metadata": {},
   "outputs": [],
   "source": [
    "def first_funct():\n",
    "    print('we did it')"
   ]
  },
  {
   "cell_type": "code",
   "execution_count": 359,
   "id": "e9ecffde-3fe2-47cf-aaa5-9dc649bff8d9",
   "metadata": {},
   "outputs": [
    {
     "name": "stdout",
     "output_type": "stream",
     "text": [
      "we did it\n"
     ]
    }
   ],
   "source": [
    "first_funct()"
   ]
  },
  {
   "cell_type": "code",
   "execution_count": 363,
   "id": "2fad65e3-211e-4b5f-b990-6bcf6d579589",
   "metadata": {},
   "outputs": [],
   "source": [
    "def sec_funct(a):\n",
    "    print(a+a)\n",
    "    "
   ]
  },
  {
   "cell_type": "code",
   "execution_count": 365,
   "id": "63965577-5316-459c-b967-2fe048b93d81",
   "metadata": {},
   "outputs": [
    {
     "name": "stdout",
     "output_type": "stream",
     "text": [
      "4\n"
     ]
    }
   ],
   "source": [
    "sec_funct(2)"
   ]
  },
  {
   "cell_type": "code",
   "execution_count": 395,
   "id": "8df71bd6-f3a2-4767-9486-ec8df5a286d1",
   "metadata": {},
   "outputs": [],
   "source": [
    "def secs_funct(a,b):\n",
    "    print(a+b)\n",
    "    "
   ]
  },
  {
   "cell_type": "code",
   "execution_count": 369,
   "id": "21bcceff-fc76-467b-b67b-cf5efd534fff",
   "metadata": {},
   "outputs": [
    {
     "name": "stdout",
     "output_type": "stream",
     "text": [
      "8\n"
     ]
    }
   ],
   "source": [
    "secs_funct(5,3)"
   ]
  },
  {
   "cell_type": "code",
   "execution_count": 387,
   "id": "10471afd-9512-4081-ae45-893e2c9d0975",
   "metadata": {},
   "outputs": [],
   "source": [
    "def th_funct(*num):\n",
    "    print(num[0] * num[1])"
   ]
  },
  {
   "cell_type": "code",
   "execution_count": 391,
   "id": "cdfb9da3-d4f6-441e-bacc-193541ee1ba3",
   "metadata": {},
   "outputs": [
    {
     "name": "stdout",
     "output_type": "stream",
     "text": [
      "6\n"
     ]
    }
   ],
   "source": [
    "th_funct(2,3,4,5)"
   ]
  },
  {
   "cell_type": "code",
   "execution_count": 397,
   "id": "692b06bd-5d5e-4c02-9b0a-b0493323d6b7",
   "metadata": {},
   "outputs": [
    {
     "name": "stdout",
     "output_type": "stream",
     "text": [
      "6\n"
     ]
    }
   ],
   "source": [
    "secs_funct(b=4,a=2)"
   ]
  },
  {
   "cell_type": "code",
   "execution_count": 413,
   "id": "2999b3b0-5c27-404b-baef-759531b0e685",
   "metadata": {},
   "outputs": [],
   "source": [
    "def four_funct(**num):\n",
    "    print('my name is' +' '+ num['int1']+' '+num['int2'])"
   ]
  },
  {
   "cell_type": "code",
   "execution_count": 415,
   "id": "c1f3f609-0643-4e2a-b936-d2096bb68fca",
   "metadata": {},
   "outputs": [
    {
     "name": "stdout",
     "output_type": "stream",
     "text": [
      "my name is nemitha NG\n"
     ]
    }
   ],
   "source": [
    "four_funct(int1='nemitha',int2='NG')"
   ]
  },
  {
   "cell_type": "code",
   "execution_count": null,
   "id": "e8b0537c-a1f6-46b9-bcad-ce5907ac868a",
   "metadata": {},
   "outputs": [],
   "source": []
  },
  {
   "cell_type": "code",
   "execution_count": null,
   "id": "42cf720c-f634-4a53-b475-a2a551cbfbf5",
   "metadata": {},
   "outputs": [],
   "source": []
  },
  {
   "cell_type": "code",
   "execution_count": null,
   "id": "73cf4e9f-9acd-4d5a-bdf7-6bfc6968b6d1",
   "metadata": {},
   "outputs": [],
   "source": []
  },
  {
   "cell_type": "code",
   "execution_count": null,
   "id": "bfdb467a-84ce-4191-bd80-3088bc32aa19",
   "metadata": {},
   "outputs": [],
   "source": []
  },
  {
   "cell_type": "code",
   "execution_count": null,
   "id": "c44eeec0-9c08-4c66-ab78-03b6bc5176b9",
   "metadata": {},
   "outputs": [],
   "source": []
  }
 ],
 "metadata": {
  "kernelspec": {
   "display_name": "Python 3 (ipykernel)",
   "language": "python",
   "name": "python3"
  },
  "language_info": {
   "codemirror_mode": {
    "name": "ipython",
    "version": 3
   },
   "file_extension": ".py",
   "mimetype": "text/x-python",
   "name": "python",
   "nbconvert_exporter": "python",
   "pygments_lexer": "ipython3",
   "version": "3.12.4"
  }
 },
 "nbformat": 4,
 "nbformat_minor": 5
}

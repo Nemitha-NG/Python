{
 "cells": [
  {
   "cell_type": "code",
   "execution_count": 34,
   "id": "7f7ec9e4-a0e9-4596-8c9a-c02d2530cef5",
   "metadata": {},
   "outputs": [],
   "source": [
    "import os,shutil"
   ]
  },
  {
   "cell_type": "code",
   "execution_count": 64,
   "id": "e2f29042-1ea4-4fb5-956b-366bcee550a6",
   "metadata": {},
   "outputs": [],
   "source": [
    "path=r\"C:/Users/nemit/OneDrive/Documents/SQL FILES/\""
   ]
  },
  {
   "cell_type": "code",
   "execution_count": 38,
   "id": "4614fc3d-d4ac-4c34-9d5a-7f562bfcd942",
   "metadata": {},
   "outputs": [
    {
     "data": {
      "text/plain": [
       "['2. SELECT STATEMENT TUITORIAL.sql',\n",
       " '4_ADVANCE_SP.sql',\n",
       " 'Beginner - Parks_and_Rec_Create_db.sql',\n",
       " 'Excel Project Dataset.xlsx',\n",
       " 'having where_intermedi.sql',\n",
       " 'MainAfter.webp',\n",
       " 'Sales.csv.zip']"
      ]
     },
     "execution_count": 38,
     "metadata": {},
     "output_type": "execute_result"
    }
   ],
   "source": [
    "os.listdir(path)"
   ]
  },
  {
   "cell_type": "code",
   "execution_count": 68,
   "id": "106efac4-95f0-4c75-a4bd-7162beaf6939",
   "metadata": {},
   "outputs": [],
   "source": [
    "folder_name=['excel files','zip files','sql files']"
   ]
  },
  {
   "cell_type": "code",
   "execution_count": 50,
   "id": "72a8d59a-7175-4a3c-9903-34372d1afbf4",
   "metadata": {},
   "outputs": [
    {
     "data": {
      "text/plain": [
       "False"
      ]
     },
     "execution_count": 50,
     "metadata": {},
     "output_type": "execute_result"
    }
   ],
   "source": [
    "os.path.exists(path + 'zip files')"
   ]
  },
  {
   "cell_type": "code",
   "execution_count": 104,
   "id": "d79656a6-0bd2-4352-bec2-80e54363ef65",
   "metadata": {},
   "outputs": [
    {
     "name": "stdout",
     "output_type": "stream",
     "text": [
      "C:/Users/nemit/OneDrive/Documents/SQL FILES/excel files\n",
      "C:/Users/nemit/OneDrive/Documents/SQL FILES/zip files\n",
      "C:/Users/nemit/OneDrive/Documents/SQL FILES/sql files\n",
      "C:/Users/nemit/OneDrive/Documents/SQL FILES/webpage files\n",
      "C:/Users/nemit/OneDrive/Documents/SQL FILES/other files\n"
     ]
    }
   ],
   "source": [
    "file_name=os.listdir(path)\n",
    "\n",
    "folder_name=['excel files','zip files','sql files','webpage files','other files']\n",
    "\n",
    "for loop in range(0,5):\n",
    "    if not os.path.exists(path + folder_name[loop]):\n",
    "        print(path + folder_name[loop])\n",
    "        os.makedirs(path + folder_name[loop])\n",
    "        \n",
    "for file in file_name:\n",
    "    if \".xlsx\" in file and not os.path.exists(path+'excel files/'+file):\n",
    "        shutil.move(path+file,path+'excel files/'+file)\n",
    "    elif \".zip\" in file and not os.path.exists(path+'zip files/'+file):\n",
    "        shutil.move(path+file,path+'zip files/'+file)\n",
    "    elif \".webp\" in file and not os.path.exists(path+'webpage files/'+file):\n",
    "        shutil.move(path+file,path+'webpage files/'+file)\n",
    "    elif \".sql\" in file and not os.path.exists(path+'sql files/'+file):\n",
    "        shutil.move(path+file,path+'sql files/'+file)\n",
    "    else:\n",
    "        shutil.move(path+file,path+'other files/'+file)"
   ]
  },
  {
   "cell_type": "code",
   "execution_count": 110,
   "id": "437a3cb4-4baf-4e6a-891d-5695708bedb8",
   "metadata": {},
   "outputs": [
    {
     "name": "stdout",
     "output_type": "stream",
     "text": [
      "['2. SELECT STATEMENT TUITORIAL.sql', '4_ADVANCE_SP.sql', 'Beginner - Parks_and_Rec_Create_db.sql', 'Excel Project Dataset.xlsx', 'having where_intermedi.sql', 'MainAfter.webp', 'Nemitha NG_CV.docx', 'Sales.csv.zip']\n"
     ]
    }
   ],
   "source": [
    "print(file_name)"
   ]
  },
  {
   "cell_type": "code",
   "execution_count": null,
   "id": "6adc3f68-7ddb-49c9-b032-bf8fb5b76462",
   "metadata": {},
   "outputs": [],
   "source": []
  },
  {
   "cell_type": "code",
   "execution_count": null,
   "id": "c0b28545-5574-4311-ac25-5b5448eaaa92",
   "metadata": {},
   "outputs": [],
   "source": []
  },
  {
   "cell_type": "code",
   "execution_count": null,
   "id": "8515926e-1cac-4263-b740-efbe95b4524e",
   "metadata": {},
   "outputs": [],
   "source": []
  },
  {
   "cell_type": "code",
   "execution_count": null,
   "id": "3df15bda-0cd0-4cd4-8b83-985c2e4ca712",
   "metadata": {},
   "outputs": [],
   "source": []
  },
  {
   "cell_type": "code",
   "execution_count": null,
   "id": "e889af79-8c1e-4577-b470-ef4cd3366008",
   "metadata": {},
   "outputs": [],
   "source": []
  },
  {
   "cell_type": "code",
   "execution_count": null,
   "id": "47991dd7-03a4-4cdd-9e1d-d2c35e82612e",
   "metadata": {},
   "outputs": [],
   "source": []
  },
  {
   "cell_type": "code",
   "execution_count": null,
   "id": "b96fa76c-f4d6-4845-a358-4bff4487879c",
   "metadata": {},
   "outputs": [],
   "source": []
  },
  {
   "cell_type": "code",
   "execution_count": null,
   "id": "3c0b57d4-4ceb-4450-b8a5-2af76e3f6f4b",
   "metadata": {},
   "outputs": [],
   "source": []
  },
  {
   "cell_type": "code",
   "execution_count": null,
   "id": "6ceaeac3-090c-417b-9d97-ade83cf71d41",
   "metadata": {},
   "outputs": [],
   "source": []
  },
  {
   "cell_type": "code",
   "execution_count": null,
   "id": "c4be0039-b961-48be-a649-f4c5bf9d3d38",
   "metadata": {},
   "outputs": [],
   "source": []
  },
  {
   "cell_type": "code",
   "execution_count": null,
   "id": "04ca83b6-cd40-4c50-aa71-a1ccb9be502f",
   "metadata": {},
   "outputs": [],
   "source": []
  },
  {
   "cell_type": "code",
   "execution_count": null,
   "id": "d486fc75-d68e-418b-8d93-42e5946592d5",
   "metadata": {},
   "outputs": [],
   "source": []
  },
  {
   "cell_type": "code",
   "execution_count": null,
   "id": "eee474d0-c041-4dbd-b842-b625292a69a2",
   "metadata": {},
   "outputs": [],
   "source": []
  },
  {
   "cell_type": "code",
   "execution_count": null,
   "id": "426dda00-f92d-4737-a5df-fd7e4cb4ffc5",
   "metadata": {},
   "outputs": [],
   "source": []
  },
  {
   "cell_type": "code",
   "execution_count": null,
   "id": "eba9316f-9996-41be-a020-8b0d16f6a050",
   "metadata": {},
   "outputs": [],
   "source": []
  },
  {
   "cell_type": "code",
   "execution_count": null,
   "id": "3335805f-4878-4dd3-be72-33f8301e6939",
   "metadata": {},
   "outputs": [],
   "source": []
  },
  {
   "cell_type": "code",
   "execution_count": null,
   "id": "74f3aaab-dc12-48ec-8ff4-1a93ab2ef348",
   "metadata": {},
   "outputs": [],
   "source": []
  },
  {
   "cell_type": "code",
   "execution_count": null,
   "id": "88f6129e-e7f6-44bf-98f9-d99a68413db9",
   "metadata": {},
   "outputs": [],
   "source": []
  },
  {
   "cell_type": "code",
   "execution_count": null,
   "id": "68f447a9-6321-493c-9397-5a3d41c2814d",
   "metadata": {},
   "outputs": [],
   "source": []
  },
  {
   "cell_type": "code",
   "execution_count": null,
   "id": "3d2c37c3-6d15-4730-ab91-d5d58d2eaddb",
   "metadata": {},
   "outputs": [],
   "source": []
  },
  {
   "cell_type": "code",
   "execution_count": null,
   "id": "46c46b69-2ae9-43e1-972f-4be7aed09708",
   "metadata": {},
   "outputs": [],
   "source": []
  }
 ],
 "metadata": {
  "kernelspec": {
   "display_name": "Python 3 (ipykernel)",
   "language": "python",
   "name": "python3"
  },
  "language_info": {
   "codemirror_mode": {
    "name": "ipython",
    "version": 3
   },
   "file_extension": ".py",
   "mimetype": "text/x-python",
   "name": "python",
   "nbconvert_exporter": "python",
   "pygments_lexer": "ipython3",
   "version": "3.12.4"
  }
 },
 "nbformat": 4,
 "nbformat_minor": 5
}
